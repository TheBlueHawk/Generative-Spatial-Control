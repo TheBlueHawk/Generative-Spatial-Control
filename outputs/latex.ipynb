{
 "cells": [
  {
   "cell_type": "code",
   "execution_count": 21,
   "metadata": {},
   "outputs": [],
   "source": [
    "import pandas as pd\n",
    "\n",
    "def latex_table(filename):\n",
    "    # read Generative Spatial Control results.csv and output latex table\n",
    "    df = pd.read_csv(filename)\n",
    "    # reorder columns as 'Experiment', 'n_samples', 'Neg prompting', 'Divider size', , 'VISOR','OA', 'OA1', 'OA2'\n",
    "    df = df[['Experiment', 'n_samples', 'Neg prompting', 'Divider size', 'VISOR','OA', 'OA1', 'OA2']]\n",
    "    df\n",
    "\n",
    "    # rename n_samples to # samples, neg prompting to negative prompting\n",
    "    df = df.rename(columns={'n_samples': '# samples', 'Neg prompting': 'Negative prompting'})\n",
    "    df\n",
    "\n",
    "    # export to latex table\n",
    "    print(df.to_latex(index=False))"
   ]
  },
  {
   "cell_type": "code",
   "execution_count": 22,
   "metadata": {},
   "outputs": [
    {
     "name": "stdout",
     "output_type": "stream",
     "text": [
      "\\begin{tabular}{lrlrrrrr}\n",
      "\\toprule\n",
      "Experiment &  \\# samples & Negative prompting &  Divider size &  VISOR &     OA &    OA1 &    OA2 \\\\\n",
      "\\midrule\n",
      "  baseline &       1000 &                NaN &           NaN & 0.0670 & 0.1319 & 0.4590 & 0.3990 \\\\\n",
      "   xattn02 &       1000 &               True &           0.0 & 0.1340 & 0.1360 & 0.4070 & 0.4190 \\\\\n",
      "   xattn05 &        500 &               True &           0.1 & 0.1110 & 0.1140 & 0.4115 & 0.3845 \\\\\n",
      "   xattn01 &       1000 &               True &           0.2 & 0.1070 & 0.1070 & 0.3700 & 0.3710 \\\\\n",
      "   xattn06 &        500 &               True &           0.3 & 0.0635 & 0.0640 & 0.2845 & 0.2945 \\\\\n",
      "\\bottomrule\n",
      "\\end{tabular}\n",
      "\n"
     ]
    },
    {
     "name": "stderr",
     "output_type": "stream",
     "text": [
      "/var/folders/4l/50kz2_m54d53hffxvvphv1lr0000gn/T/ipykernel_40013/4078421691.py:15: FutureWarning: In future versions `DataFrame.to_latex` is expected to utilise the base implementation of `Styler.to_latex` for formatting and rendering. The arguments signature may therefore change. It is recommended instead to use `DataFrame.style.to_latex` which also contains additional functionality.\n",
      "  print(df.to_latex(index=False))\n"
     ]
    }
   ],
   "source": [
    "latex_table('Generative Spatial Control results - Sheet2.csv')"
   ]
  },
  {
   "cell_type": "code",
   "execution_count": 23,
   "metadata": {},
   "outputs": [
    {
     "name": "stdout",
     "output_type": "stream",
     "text": [
      "\\begin{tabular}{lrlrrrrr}\n",
      "\\toprule\n",
      "Experiment &  \\# samples & Negative prompting &  Divider size &  VISOR &     OA &    OA1 &     OA2 \\\\\n",
      "\\midrule\n",
      "  baseline &       1000 &                NaN &           NaN & 0.0670 & 0.1319 & 0.4590 & 0.39900 \\\\\n",
      "   xattn01 &       1000 &               True &           0.2 & 0.1070 & 0.1070 & 0.3700 & 0.37100 \\\\\n",
      "   xattn03 &       1000 &              False &           0.2 & 0.1205 & 0.1217 & 0.4283 & 0.37575 \\\\\n",
      "\\bottomrule\n",
      "\\end{tabular}\n",
      "\n"
     ]
    },
    {
     "name": "stderr",
     "output_type": "stream",
     "text": [
      "/var/folders/4l/50kz2_m54d53hffxvvphv1lr0000gn/T/ipykernel_40013/4078421691.py:15: FutureWarning: In future versions `DataFrame.to_latex` is expected to utilise the base implementation of `Styler.to_latex` for formatting and rendering. The arguments signature may therefore change. It is recommended instead to use `DataFrame.style.to_latex` which also contains additional functionality.\n",
      "  print(df.to_latex(index=False))\n"
     ]
    }
   ],
   "source": [
    "latex_table('Generative Spatial Control results - Sheet3.csv')"
   ]
  }
 ],
 "metadata": {
  "kernelspec": {
   "display_name": "GVM",
   "language": "python",
   "name": "python3"
  },
  "language_info": {
   "codemirror_mode": {
    "name": "ipython",
    "version": 3
   },
   "file_extension": ".py",
   "mimetype": "text/x-python",
   "name": "python",
   "nbconvert_exporter": "python",
   "pygments_lexer": "ipython3",
   "version": "3.10.10"
  },
  "orig_nbformat": 4
 },
 "nbformat": 4,
 "nbformat_minor": 2
}
